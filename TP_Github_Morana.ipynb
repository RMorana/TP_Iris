{
 "cells": [
  {
   "cell_type": "code",
   "execution_count": 9,
   "metadata": {},
   "outputs": [],
   "source": [
    "# Import biblio\n",
    "import pandas as pd\n",
    "#import matplotlib.pyplot as plt\n",
    "#import seaborn as sns\n",
    "#from distinctipy import distinctipy\n",
    "#from matplotlib.font_manager import FontProperties\n",
    "#from matplotlib import rc\n",
    "import numpy as np\n",
    "\n",
    "# Modifier les paramètres d'affichage de la sortie des commandes dans Jupyter\n",
    "pd.set_option('display.max_rows', 100)\n",
    "pd.set_option('display.max_columns', 50)\n",
    "pd.set_option('display.width', 100)\n",
    "\n",
    "# ajout des noms de colonnes\n",
    "column_names=[\"sepal_length_cm\",\"sepal_width_cm\",\"petal_length_cm\",\"petal_width_cm\",\"class\"]\n",
    "\n",
    "# ouverture du dataset\n",
    "df = pd.read_csv(\"src/Iris.data\",header=0,sep=\",\", names=column_names, low_memory=\"False\")"
   ]
  },
  {
   "cell_type": "code",
   "execution_count": 10,
   "metadata": {},
   "outputs": [
    {
     "name": "stdout",
     "output_type": "stream",
     "text": [
      "Afficher les informations du Dataset\n",
      "<bound method DataFrame.info of      sepal_length_cm  sepal_width_cm  petal_length_cm  petal_width_cm           class\n",
      "0                4.9             3.0              1.4             0.2     Iris-setosa\n",
      "1                4.7             3.2              1.3             0.2     Iris-setosa\n",
      "2                4.6             3.1              1.5             0.2     Iris-setosa\n",
      "3                5.0             3.6              1.4             0.2     Iris-setosa\n",
      "4                5.4             3.9              1.7             0.4     Iris-setosa\n",
      "..               ...             ...              ...             ...             ...\n",
      "144              6.7             3.0              5.2             2.3  Iris-virginica\n",
      "145              6.3             2.5              5.0             1.9  Iris-virginica\n",
      "146              6.5             3.0              5.2             2.0  Iris-virginica\n",
      "147              6.2             3.4              5.4             2.3  Iris-virginica\n",
      "148              5.9             3.0              5.1             1.8  Iris-virginica\n",
      "\n",
      "[149 rows x 5 columns]>\n",
      "Afficher la description\n",
      "       sepal_length_cm  sepal_width_cm  petal_length_cm  petal_width_cm\n",
      "count       149.000000      149.000000       149.000000      149.000000\n",
      "mean          5.848322        3.051007         3.774497        1.205369\n",
      "std           0.828594        0.433499         1.759651        0.761292\n",
      "min           4.300000        2.000000         1.000000        0.100000\n",
      "25%           5.100000        2.800000         1.600000        0.300000\n",
      "50%           5.800000        3.000000         4.400000        1.300000\n",
      "75%           6.400000        3.300000         5.100000        1.800000\n",
      "max           7.900000        4.400000         6.900000        2.500000\n",
      "Afficher les premières lignes\n",
      "   sepal_length_cm  sepal_width_cm  petal_length_cm  petal_width_cm        class\n",
      "0              4.9             3.0              1.4             0.2  Iris-setosa\n",
      "1              4.7             3.2              1.3             0.2  Iris-setosa\n",
      "2              4.6             3.1              1.5             0.2  Iris-setosa\n",
      "3              5.0             3.6              1.4             0.2  Iris-setosa\n",
      "4              5.4             3.9              1.7             0.4  Iris-setosa\n",
      "Afficher de l'index\n",
      "RangeIndex(start=0, stop=149, step=1)\n"
     ]
    }
   ],
   "source": [
    "# afficher infos dataset\n",
    "print(\"Afficher les informations du Dataset\")\n",
    "print(df.info)\n",
    "\n",
    "print(\"Afficher la description\")\n",
    "print(df.describe())\n",
    "\n",
    "print(\"Afficher les premières lignes\")\n",
    "print(df.head(5))\n",
    "\n",
    "print(\"Afficher de l'index\")\n",
    "print(df.index)"
   ]
  },
  {
   "cell_type": "code",
   "execution_count": 12,
   "metadata": {},
   "outputs": [
    {
     "name": "stdout",
     "output_type": "stream",
     "text": [
      "Index(['sepal_length_cm', 'sepal_width_cm', 'petal_length_cm', 'petal_width_cm', 'class'], dtype='object')\n",
      "     index  sepal_length_cm\n",
      "0        0              4.9\n",
      "1        1              4.7\n",
      "2        2              4.6\n",
      "3        3              5.0\n",
      "4        4              5.4\n",
      "..     ...              ...\n",
      "144    144              6.7\n",
      "145    145              6.3\n",
      "146    146              6.5\n",
      "147    147              6.2\n",
      "148    148              5.9\n",
      "\n",
      "[149 rows x 2 columns]\n"
     ]
    }
   ],
   "source": [
    "# Affichage dataframe une seule colonne\n",
    "print(df.columns)\n",
    "df_filtered = df[\"sepal_length_cm\"]\n",
    "print(df_filtered.reset_index())"
   ]
  },
  {
   "cell_type": "code",
   "execution_count": 26,
   "metadata": {},
   "outputs": [],
   "source": [
    "# Graphique de la db\n",
    "import matplotlib.pyplot as plt\n",
    "\n",
    "# affichage du stackplot\n",
    "#ax=plt.hist(df_filtered, color='lightgreen', ec='black', bins=15)\n",
    "plt.show()\n"
   ]
  }
 ],
 "metadata": {
  "kernelspec": {
   "display_name": "base",
   "language": "python",
   "name": "python3"
  },
  "language_info": {
   "codemirror_mode": {
    "name": "ipython",
    "version": 3
   },
   "file_extension": ".py",
   "mimetype": "text/x-python",
   "name": "python",
   "nbconvert_exporter": "python",
   "pygments_lexer": "ipython3",
   "version": "3.10.9"
  },
  "orig_nbformat": 4
 },
 "nbformat": 4,
 "nbformat_minor": 2
}
